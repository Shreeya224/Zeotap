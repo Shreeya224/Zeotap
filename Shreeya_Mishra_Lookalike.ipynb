{
 "cells": [
  {
   "cell_type": "code",
   "execution_count": 2,
   "id": "a3fcc26d-6ce8-4273-8804-84fa024ecc37",
   "metadata": {},
   "outputs": [
    {
     "name": "stdout",
     "output_type": "stream",
     "text": [
      "Requirement already satisfied: pandas in c:\\users\\user\\appdata\\local\\programs\\python\\python39\\lib\\site-packages (2.2.2)\n",
      "Requirement already satisfied: scikit-learn in c:\\users\\user\\appdata\\local\\programs\\python\\python39\\lib\\site-packages (1.5.1)\n",
      "Requirement already satisfied: matplotlib in c:\\users\\user\\appdata\\local\\programs\\python\\python39\\lib\\site-packages (3.8.4)\n",
      "Requirement already satisfied: numpy>=1.22.4 in c:\\users\\user\\appdata\\local\\programs\\python\\python39\\lib\\site-packages (from pandas) (1.26.4)\n",
      "Requirement already satisfied: python-dateutil>=2.8.2 in c:\\users\\user\\appdata\\local\\programs\\python\\python39\\lib\\site-packages (from pandas) (2.9.0.post0)\n",
      "Requirement already satisfied: pytz>=2020.1 in c:\\users\\user\\appdata\\local\\programs\\python\\python39\\lib\\site-packages (from pandas) (2024.1)\n",
      "Requirement already satisfied: tzdata>=2022.7 in c:\\users\\user\\appdata\\local\\programs\\python\\python39\\lib\\site-packages (from pandas) (2024.1)\n",
      "Requirement already satisfied: scipy>=1.6.0 in c:\\users\\user\\appdata\\local\\programs\\python\\python39\\lib\\site-packages (from scikit-learn) (1.13.1)\n",
      "Requirement already satisfied: joblib>=1.2.0 in c:\\users\\user\\appdata\\local\\programs\\python\\python39\\lib\\site-packages (from scikit-learn) (1.4.2)\n",
      "Requirement already satisfied: threadpoolctl>=3.1.0 in c:\\users\\user\\appdata\\local\\programs\\python\\python39\\lib\\site-packages (from scikit-learn) (3.5.0)\n",
      "Requirement already satisfied: contourpy>=1.0.1 in c:\\users\\user\\appdata\\local\\programs\\python\\python39\\lib\\site-packages (from matplotlib) (1.2.1)\n",
      "Requirement already satisfied: cycler>=0.10 in c:\\users\\user\\appdata\\local\\programs\\python\\python39\\lib\\site-packages (from matplotlib) (0.12.1)\n",
      "Requirement already satisfied: fonttools>=4.22.0 in c:\\users\\user\\appdata\\local\\programs\\python\\python39\\lib\\site-packages (from matplotlib) (4.51.0)\n",
      "Requirement already satisfied: kiwisolver>=1.3.1 in c:\\users\\user\\appdata\\local\\programs\\python\\python39\\lib\\site-packages (from matplotlib) (1.4.5)\n",
      "Requirement already satisfied: packaging>=20.0 in c:\\users\\user\\appdata\\local\\programs\\python\\python39\\lib\\site-packages (from matplotlib) (24.0)\n",
      "Requirement already satisfied: pillow>=8 in c:\\users\\user\\appdata\\local\\programs\\python\\python39\\lib\\site-packages (from matplotlib) (10.3.0)\n",
      "Requirement already satisfied: pyparsing>=2.3.1 in c:\\users\\user\\appdata\\local\\programs\\python\\python39\\lib\\site-packages (from matplotlib) (3.1.2)\n",
      "Requirement already satisfied: importlib-resources>=3.2.0 in c:\\users\\user\\appdata\\local\\programs\\python\\python39\\lib\\site-packages (from matplotlib) (6.4.0)\n",
      "Requirement already satisfied: zipp>=3.1.0 in c:\\users\\user\\appdata\\local\\programs\\python\\python39\\lib\\site-packages (from importlib-resources>=3.2.0->matplotlib) (3.18.1)\n",
      "Requirement already satisfied: six>=1.5 in c:\\users\\user\\appdata\\local\\programs\\python\\python39\\lib\\site-packages (from python-dateutil>=2.8.2->pandas) (1.16.0)\n"
     ]
    },
    {
     "name": "stderr",
     "output_type": "stream",
     "text": [
      "\n",
      "[notice] A new release of pip is available: 24.0 -> 25.0\n",
      "[notice] To update, run: python.exe -m pip install --upgrade pip\n"
     ]
    }
   ],
   "source": [
    "!pip install pandas scikit-learn matplotlib\n"
   ]
  },
  {
   "cell_type": "code",
   "execution_count": 3,
   "id": "bbc2f309-22bc-4bd1-be4f-38e8854e6903",
   "metadata": {},
   "outputs": [
    {
     "name": "stdout",
     "output_type": "stream",
     "text": [
      "Lookalike.csv has been saved.\n"
     ]
    }
   ],
   "source": [
    "# Step 1: Import libraries\n",
    "import pandas as pd\n",
    "from sklearn.metrics.pairwise import cosine_similarity\n",
    "from sklearn.preprocessing import StandardScaler\n",
    "import matplotlib.pyplot as plt\n",
    "\n",
    "# Step 2: Load datasets\n",
    "customers = pd.read_csv('Customers.csv')\n",
    "products = pd.read_csv('Products.csv')\n",
    "transactions = pd.read_csv('Transactions.csv')\n",
    "\n",
    "# Step 3: Merge datasets for feature extraction\n",
    "transactions_customers = pd.merge(transactions, customers, on='CustomerID', how='left')\n",
    "full_data = pd.merge(transactions_customers, products, on='ProductID', how='left')\n",
    "\n",
    "# Step 4: Feature engineering\n",
    "customer_features = full_data.groupby('CustomerID').agg({\n",
    "    'TotalValue': 'sum',  # Total spending\n",
    "    'Quantity': 'sum',    # Total quantity purchased\n",
    "    'Category': lambda x: x.mode()[0],  # Most purchased category\n",
    "    'Region': 'first'     # Region of the customer\n",
    "}).reset_index()\n",
    "\n",
    "# One-hot encode categorical fields\n",
    "customer_features = pd.get_dummies(customer_features, columns=['Category', 'Region'])\n",
    "\n",
    "# Step 5: Normalize data\n",
    "scaler = StandardScaler()\n",
    "numeric_features = ['TotalValue', 'Quantity']\n",
    "scaled_features = scaler.fit_transform(customer_features[numeric_features])\n",
    "scaled_data = pd.concat([\n",
    "    customer_features[['CustomerID']],\n",
    "    pd.DataFrame(scaled_features, columns=numeric_features, index=customer_features.index),\n",
    "    customer_features.drop(['CustomerID'] + numeric_features, axis=1)\n",
    "], axis=1)\n",
    "\n",
    "# Step 6: Compute similarity matrix\n",
    "similarity_matrix = cosine_similarity(scaled_data.drop('CustomerID', axis=1))\n",
    "\n",
    "# Step 7: Generate lookalike recommendations\n",
    "lookalike_results = {}\n",
    "for idx, customer_id in enumerate(customer_features['CustomerID']):\n",
    "    customer_similarities = list(enumerate(similarity_matrix[idx]))\n",
    "    customer_similarities = sorted(customer_similarities, key=lambda x: x[1], reverse=True)[1:4]\n",
    "    lookalike_results[customer_id] = [(customer_features['CustomerID'][sim[0]], round(sim[1], 3)) for sim in customer_similarities]\n",
    "\n",
    "# Step 8: Filter for the first 20 customers\n",
    "lookalike_filtered = {k: v for k, v in lookalike_results.items() if k in customers['CustomerID'][:20].values}\n",
    "\n",
    "# Step 9: Save results\n",
    "lookalike_df = pd.DataFrame({'CustomerID': lookalike_filtered.keys(), 'Lookalikes': lookalike_filtered.values()})\n",
    "lookalike_df.to_csv('Lookalike.csv', index=False)\n",
    "print(\"Lookalike.csv has been saved.\")\n"
   ]
  },
  {
   "cell_type": "code",
   "execution_count": null,
   "id": "01453dfa-3fb7-4644-bb6c-71173b642384",
   "metadata": {},
   "outputs": [],
   "source": []
  }
 ],
 "metadata": {
  "kernelspec": {
   "display_name": "Python 3 (ipykernel)",
   "language": "python",
   "name": "python3"
  },
  "language_info": {
   "codemirror_mode": {
    "name": "ipython",
    "version": 3
   },
   "file_extension": ".py",
   "mimetype": "text/x-python",
   "name": "python",
   "nbconvert_exporter": "python",
   "pygments_lexer": "ipython3",
   "version": "3.9.10"
  }
 },
 "nbformat": 4,
 "nbformat_minor": 5
}
